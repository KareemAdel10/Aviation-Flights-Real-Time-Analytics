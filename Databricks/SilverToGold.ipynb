{
 "cells": [
  {
   "cell_type": "code",
   "execution_count": 2,
   "metadata": {},
   "outputs": [],
   "source": [
    "import findspark\n",
    "findspark.init()\n",
    "from pyspark.sql import SparkSession\n",
    "spark = SparkSession.builder.getOrCreate()"
   ]
  },
  {
   "cell_type": "code",
   "execution_count": 3,
   "metadata": {},
   "outputs": [
    {
     "data": {
      "text/plain": [
       "'3.5.2'"
      ]
     },
     "execution_count": 3,
     "metadata": {},
     "output_type": "execute_result"
    }
   ],
   "source": [
    "spark.version"
   ]
  },
  {
   "cell_type": "code",
   "execution_count": 4,
   "metadata": {},
   "outputs": [],
   "source": [
    "from pyspark.sql.functions import col, explode"
   ]
  },
  {
   "cell_type": "markdown",
   "metadata": {},
   "source": [
    "# 1. Cities table"
   ]
  },
  {
   "cell_type": "code",
   "execution_count": 64,
   "metadata": {},
   "outputs": [],
   "source": [
    "df = spark.read.json(r\"C:\\Users\\karee\\Downloads\\file_0_20250320_112647.json\")"
   ]
  },
  {
   "cell_type": "code",
   "execution_count": 65,
   "metadata": {},
   "outputs": [
    {
     "name": "stdout",
     "output_type": "stream",
     "text": [
      "+--------------------+-------------------+\n",
      "|                data|         pagination|\n",
      "+--------------------+-------------------+\n",
      "|[{1, Anaa, PF, NU...|{100, 100, 0, 9374}|\n",
      "+--------------------+-------------------+\n",
      "\n"
     ]
    }
   ],
   "source": [
    "df.show()"
   ]
  },
  {
   "cell_type": "code",
   "execution_count": 66,
   "metadata": {},
   "outputs": [],
   "source": [
    "df2 = df.withColumn(\"explodedarray\", explode(col(\"data\")))"
   ]
  },
  {
   "cell_type": "code",
   "execution_count": 67,
   "metadata": {},
   "outputs": [
    {
     "name": "stdout",
     "output_type": "stream",
     "text": [
      "+--------------------+-------------------+--------------------+\n",
      "|                data|         pagination|       explodedarray|\n",
      "+--------------------+-------------------+--------------------+\n",
      "|[{1, Anaa, PF, NU...|{100, 100, 0, 9374}|{1, Anaa, PF, NUL...|\n",
      "|[{1, Anaa, PF, NU...|{100, 100, 0, 9374}|{2, Arrabury, AU,...|\n",
      "|[{1, Anaa, PF, NU...|{100, 100, 0, 9374}|{3, El Arish, EG,...|\n",
      "|[{1, Anaa, PF, NU...|{100, 100, 0, 9374}|{4, Annaba, DZ, 2...|\n",
      "|[{1, Anaa, PF, NU...|{100, 100, 0, 9374}|{5, Apalachicola,...|\n",
      "|[{1, Anaa, PF, NU...|{100, 100, 0, 9374}|{6, Arapoti, BR, ...|\n",
      "|[{1, Anaa, PF, NU...|{100, 100, 0, 9374}|{7, Aachen, DE, 3...|\n",
      "|[{1, Anaa, PF, NU...|{100, 100, 0, 9374}|{8, Arraias, BR, ...|\n",
      "|[{1, Anaa, PF, NU...|{100, 100, 0, 9374}|{9, Awaradam, SR,...|\n",
      "|[{1, Anaa, PF, NU...|{100, 100, 0, 9374}|{10, Aranuka, KI,...|\n",
      "|[{1, Anaa, PF, NU...|{100, 100, 0, 9374}|{11, Aalborg, DK,...|\n",
      "|[{1, Anaa, PF, NU...|{100, 100, 0, 9374}|{12, Mala Mala, Z...|\n",
      "|[{1, Anaa, PF, NU...|{100, 100, 0, 9374}|{13, Al Ain, AE, ...|\n",
      "|[{1, Anaa, PF, NU...|{100, 100, 0, 9374}|{14, Anaco, VE, 3...|\n",
      "|[{1, Anaa, PF, NU...|{100, 100, 0, 9374}|{15, Anapa, RU, 5...|\n",
      "|[{1, Anaa, PF, NU...|{100, 100, 0, 9374}|{16, Aarhus, DK, ...|\n",
      "|[{1, Anaa, PF, NU...|{100, 100, 0, 9374}|{17, Apalapsili, ...|\n",
      "|[{1, Anaa, PF, NU...|{100, 100, 0, 9374}|{18, Altay, CN, 1...|\n",
      "|[{1, Anaa, PF, NU...|{100, 100, 0, 9374}|{19, Asau, WS, 40...|\n",
      "|[{1, Anaa, PF, NU...|{100, 100, 0, 9374}|{20, Surallah, PH...|\n",
      "+--------------------+-------------------+--------------------+\n",
      "only showing top 20 rows\n",
      "\n"
     ]
    }
   ],
   "source": [
    "df2.show()"
   ]
  },
  {
   "cell_type": "code",
   "execution_count": 68,
   "metadata": {},
   "outputs": [],
   "source": [
    "df2.createOrReplaceTempView(\"table\")"
   ]
  },
  {
   "cell_type": "code",
   "execution_count": 77,
   "metadata": {},
   "outputs": [
    {
     "name": "stdout",
     "output_type": "stream",
     "text": [
      "+-------+---------+------------+----------+---+---------+---+--------+---------+--------+\n",
      "|city_id|city_name|country_iso2|geoname_id|gmt|iata_code| id|latitude|longitude|timezone|\n",
      "+-------+---------+------------+----------+---+---------+---+--------+---------+--------+\n",
      "+-------+---------+------------+----------+---+---------+---+--------+---------+--------+\n",
      "\n"
     ]
    }
   ],
   "source": [
    "df3 = spark.sql(\n",
    "    \"\"\"\n",
    "        SELECT DISTINCT\n",
    "            explodedarray.*\n",
    "        FROM table\n",
    "        WHERE explodedarray.country_iso2 IS NULL\n",
    "    \"\"\"\n",
    ").show() "
   ]
  },
  {
   "cell_type": "code",
   "execution_count": 123,
   "metadata": {},
   "outputs": [
    {
     "name": "stdout",
     "output_type": "stream",
     "text": [
      "+-------+------------+---------+----------+----------+-------------------+------------+\n",
      "|city_id|   city_name|iata_code|  latitude| longitude|           timezone|country_iso2|\n",
      "+-------+------------+---------+----------+----------+-------------------+------------+\n",
      "|      1|        Anaa|      AAA|    -17.05|-145.41667|     Pacific/Tahiti|          PF|\n",
      "|      2|    Arrabury|      AAB|     -26.7| 141.04167| Australia/Brisbane|          AU|\n",
      "|      3|    El Arish|      AAC| 31.133333|     33.75|       Africa/Cairo|          EG|\n",
      "|      4|      Annaba|      AAE| 36.821392|  7.811857|     Africa/Algiers|          DZ|\n",
      "|      5|Apalachicola|      AAF| 29.733334| -84.98333|    America/Chicago|          US|\n",
      "|      6|     Arapoti|      AAG|-24.103611|    -49.79|  America/Sao_Paulo|          BR|\n",
      "|      7|      Aachen|      AAH| 50.775438|   6.08151|      Europe/Berlin|          DE|\n",
      "|      8|     Arraias|      AAI|-12.916667|-46.933334|  America/Araguaina|          BR|\n",
      "|      9|    Awaradam|      AAJ|       3.9| -55.36667| America/Paramaribo|          SR|\n",
      "|     10|     Aranuka|      AAK|  0.166667| 173.58333|     Pacific/Tarawa|          KI|\n",
      "|     11|     Aalborg|      AAL| 57.028811|  9.917771|  Europe/Copenhagen|          DK|\n",
      "|     12|   Mala Mala|      AAM|     -24.8| 31.533333|Africa/Johannesburg|          ZA|\n",
      "|     13|      Al Ain|      AAN|   24.2075| 55.744722|         Asia/Dubai|          AE|\n",
      "|     14|       Anaco|      AAO|  9.431944| -64.46389|    America/Caracas|          VE|\n",
      "|     15|       Anapa|      AAQ|      44.9| 37.316666|      Europe/Moscow|          RU|\n",
      "|     16|      Aarhus|      AAR| 56.162939| 10.203921|  Europe/Copenhagen|          DK|\n",
      "|     17|  Apalapsili|      AAS| -3.916667|    139.25|      Asia/Jayapura|          ID|\n",
      "|     18|       Altay|      AAT| 47.750362|  88.08444|      Asia/Shanghai|          CN|\n",
      "|     19|        Asau|      AAU|-13.458333|    -172.6|       Pacific/Apia|          WS|\n",
      "|     20|    Surallah|      AAV|  6.333333| 124.76667|        Asia/Manila|          PH|\n",
      "+-------+------------+---------+----------+----------+-------------------+------------+\n",
      "only showing top 20 rows\n",
      "\n"
     ]
    }
   ],
   "source": [
    "df3 = spark.sql(\n",
    "    \"\"\" \n",
    "    SELECT \n",
    "        COALESCE(explodedarray.city_id, 0) as city_id,\n",
    "        COALESCE(explodedarray.city_name, 'Unknown') as city_name,\n",
    "\n",
    "        COALESCE(explodedarray.iata_code, 'N/A') as iata_code,\n",
    "\n",
    "        COALESCE(explodedarray.latitude, 0) as latitude,\n",
    "        COALESCE(explodedarray.longitude, 0) as longitude,\n",
    "        \n",
    "        COALESCE(explodedarray.timezone, 'N/A') as timezone,\n",
    "        COALESCE(explodedarray.country_iso2, 'N/A') as country_iso2\n",
    "    FROM table   \n",
    "    \"\"\"\n",
    ").show()"
   ]
  },
  {
   "cell_type": "markdown",
   "metadata": {},
   "source": [
    "# 2. Countries Table\n"
   ]
  },
  {
   "cell_type": "code",
   "execution_count": 148,
   "metadata": {},
   "outputs": [],
   "source": [
    "df = spark.read.json(r\"C:\\Users\\karee\\Downloads\\file_101_20250320_114525.json\")"
   ]
  },
  {
   "cell_type": "code",
   "execution_count": 149,
   "metadata": {},
   "outputs": [
    {
     "name": "stdout",
     "output_type": "stream",
     "text": [
      "+--------------------+--------------------+\n",
      "|                data|          pagination|\n",
      "+--------------------+--------------------+\n",
      "|[{Budapest, EU, 1...|{100, 100, 101, 252}|\n",
      "+--------------------+--------------------+\n",
      "\n"
     ]
    }
   ],
   "source": [
    "df.show()"
   ]
  },
  {
   "cell_type": "code",
   "execution_count": 150,
   "metadata": {},
   "outputs": [],
   "source": [
    "df = df.withColumn(\"explodedarray\", explode(col('data')))"
   ]
  },
  {
   "cell_type": "code",
   "execution_count": 151,
   "metadata": {},
   "outputs": [],
   "source": [
    "df.createOrReplaceTempView(\"table\")"
   ]
  },
  {
   "cell_type": "code",
   "execution_count": 154,
   "metadata": {},
   "outputs": [
    {
     "name": "stdout",
     "output_type": "stream",
     "text": [
      "+-------+---------+----------+------------+------------+-------------------+------------+-------------+-------------+---------+---+------------+----------+\n",
      "|capital|continent|country_id|country_iso2|country_iso3|country_iso_numeric|country_name|currency_code|currency_name|fips_code| id|phone_prefix|population|\n",
      "+-------+---------+----------+------------+------------+-------------------+------------+-------------+-------------+---------+---+------------+----------+\n",
      "+-------+---------+----------+------------+------------+-------------------+------------+-------------+-------------+---------+---+------------+----------+\n",
      "\n"
     ]
    }
   ],
   "source": [
    "df3 = spark.sql(\n",
    "    \"\"\" \n",
    "    SELECT \n",
    "         explodedarray.*\n",
    "    FROM table   \n",
    "    WHERE \n",
    "        explodedarray.country_iso3 IS NULL\n",
    "    \"\"\"\n",
    ").show()"
   ]
  },
  {
   "cell_type": "code",
   "execution_count": null,
   "metadata": {},
   "outputs": [
    {
     "name": "stdout",
     "output_type": "stream",
     "text": [
      "+----------+--------------------+------------+--------------------+---------+-------------+----------+------------+\n",
      "|country_id|        country_name|country_iso2|             capital|continent|currency_name|population|phone_prefix|\n",
      "+----------+--------------------+------------+--------------------+---------+-------------+----------+------------+\n",
      "|       102|             Hungary|          HU|            Budapest|       EU|       Forint|   9982000|          36|\n",
      "|       103|           Indonesia|          ID|             Jakarta|       AS|       Rupiah| 242968342|          62|\n",
      "|       104|             Ireland|          IE|              Dublin|       EU|         Euro|   4622917|         353|\n",
      "|       105|              Israel|          IL|           Jerusalem|       AS|       Shekel|   7353985|         972|\n",
      "|       106|         Isle of Man|          IM|Douglas, Isle of Man|       EU|        Pound|     75049|    +44-1624|\n",
      "|       107|               India|          IN|           New Delhi|       AS|        Rupee|1173108018|          91|\n",
      "|       108|British Indian Oc...|          IO|        Diego Garcia|       AS|       Dollar|      4000|         246|\n",
      "|       109|                Iraq|          IQ|             Baghdad|       AS|        Dinar|  29671605|         964|\n",
      "|       110|                Iran|          IR|              Tehran|       AS|         Rial|  76923300|          98|\n",
      "|       111|             Iceland|          IS|           Reykjavik|       EU|        Krona|    308910|         354|\n",
      "|       112|               Italy|          IT|                Rome|       EU|         Euro|  60340328|          39|\n",
      "|       113|              Jersey|          JE|        Saint Helier|       EU|        Pound|     90812|    +44-1534|\n",
      "|       114|             Jamaica|          JM|            Kingston|       NA|       Dollar|   2847232|      +1-876|\n",
      "|       115|              Jordan|          JO|               Amman|       AS|        Dinar|   6407085|         962|\n",
      "|       116|               Japan|          JP|               Tokyo|       AS|          Yen| 127288000|          81|\n",
      "|       117|               Kenya|          KE|             Nairobi|       AF|     Shilling|  40046566|         254|\n",
      "|       118|          Kyrgyzstan|          KG|             Bishkek|       AS|          Som|   5508626|         996|\n",
      "|       119|            Cambodia|          KH|          Phnom Penh|       AS|        Riels|  14453680|         855|\n",
      "|       120|            Kiribati|          KI|              Tarawa|       OC|       Dollar|     92533|         686|\n",
      "|       121|             Comoros|          KM|              Moroni|       AF|        Franc|    773407|         269|\n",
      "+----------+--------------------+------------+--------------------+---------+-------------+----------+------------+\n",
      "only showing top 20 rows\n",
      "\n"
     ]
    }
   ],
   "source": [
    "df2 = spark.sql(\n",
    "    \"\"\" \n",
    "    SELECT \n",
    "        COALESCE(explodedarray.country_name, 'Unknown') as country_name,\n",
    "        COALESCE(explodedarray.country_iso2, 'N/A') as country_iso2,\n",
    "        COALESCE(explodedarray.capital, 'Unknown') as capital,\n",
    "        COALESCE(explodedarray.continent, 'Unknown') as continent,\n",
    "        COALESCE(explodedarray.currency_name, 'Unknown') as currency_name,\n",
    "        COALESCE(explodedarray.population, 0) as population,\n",
    "        COALESCE(explodedarray.phone_prefix, \"Unknown\") as phone_prefix\n",
    "    FROM table   \n",
    "    \"\"\"\n",
    ").show()"
   ]
  },
  {
   "cell_type": "markdown",
   "metadata": {},
   "source": [
    "# 3. Airplanes Table:"
   ]
  },
  {
   "cell_type": "code",
   "execution_count": 196,
   "metadata": {},
   "outputs": [],
   "source": [
    "df = spark.read.json(r\"C:\\Users\\karee\\Downloads\\file_1010_20250320_124911.json\")"
   ]
  },
  {
   "cell_type": "code",
   "execution_count": 197,
   "metadata": {},
   "outputs": [
    {
     "name": "stdout",
     "output_type": "stream",
     "text": [
      "+--------------------+--------------------+\n",
      "|                data|          pagination|\n",
      "+--------------------+--------------------+\n",
      "|[{6R, NULL, 1011,...|{100, 100, 1010, ...|\n",
      "+--------------------+--------------------+\n",
      "\n"
     ]
    }
   ],
   "source": [
    "df.show()"
   ]
  },
  {
   "cell_type": "code",
   "execution_count": 198,
   "metadata": {},
   "outputs": [],
   "source": [
    "df = df.withColumn(\"explodedarray\", explode(col('data')))   "
   ]
  },
  {
   "cell_type": "code",
   "execution_count": 199,
   "metadata": {},
   "outputs": [
    {
     "name": "stdout",
     "output_type": "stream",
     "text": [
      "+--------------------+--------------------+--------------------+\n",
      "|                data|          pagination|       explodedarray|\n",
      "+--------------------+--------------------+--------------------+\n",
      "|[{6R, NULL, 1011,...|{100, 100, 1010, ...|{6R, NULL, 1011, ...|\n",
      "|[{6R, NULL, 1011,...|{100, 100, 1010, ...|{6R, NULL, 1012, ...|\n",
      "|[{6R, NULL, 1011,...|{100, 100, 1010, ...|{6R, NULL, 1013, ...|\n",
      "|[{6R, NULL, 1011,...|{100, 100, 1010, ...|{6R, NULL, 1014, ...|\n",
      "|[{6R, NULL, 1011,...|{100, 100, 1010, ...|{6R, NULL, 1015, ...|\n",
      "|[{6R, NULL, 1011,...|{100, 100, 1010, ...|{7C, NULL, 1016, ...|\n",
      "|[{6R, NULL, 1011,...|{100, 100, 1010, ...|{7C, NULL, 1017, ...|\n",
      "|[{6R, NULL, 1011,...|{100, 100, 1010, ...|{7C, NULL, 1018, ...|\n",
      "|[{6R, NULL, 1011,...|{100, 100, 1010, ...|{7C, NULL, 1019, ...|\n",
      "|[{6R, NULL, 1011,...|{100, 100, 1010, ...|{7C, NULL, 1020, ...|\n",
      "|[{6R, NULL, 1011,...|{100, 100, 1010, ...|{7C, NULL, 1021, ...|\n",
      "|[{6R, NULL, 1011,...|{100, 100, 1010, ...|{7C, NULL, 1022, ...|\n",
      "|[{6R, NULL, 1011,...|{100, 100, 1010, ...|{7C, NULL, 1023, ...|\n",
      "|[{6R, NULL, 1011,...|{100, 100, 1010, ...|{7C, NULL, 1024, ...|\n",
      "|[{6R, NULL, 1011,...|{100, 100, 1010, ...|{7C, NULL, 1025, ...|\n",
      "|[{6R, NULL, 1011,...|{100, 100, 1010, ...|{7C, NULL, 1026, ...|\n",
      "|[{6R, NULL, 1011,...|{100, 100, 1010, ...|{7C, NULL, 1027, ...|\n",
      "|[{6R, NULL, 1011,...|{100, 100, 1010, ...|{7C, NULL, 1028, ...|\n",
      "|[{6R, NULL, 1011,...|{100, 100, 1010, ...|{7C, NULL, 1029, ...|\n",
      "|[{6R, NULL, 1011,...|{100, 100, 1010, ...|{7C, NULL, 1030, ...|\n",
      "+--------------------+--------------------+--------------------+\n",
      "only showing top 20 rows\n",
      "\n"
     ]
    }
   ],
   "source": [
    "df.show()"
   ]
  },
  {
   "cell_type": "code",
   "execution_count": 200,
   "metadata": {},
   "outputs": [],
   "source": [
    "df.createOrReplaceTempView(\"table\")"
   ]
  },
  {
   "cell_type": "code",
   "execution_count": 201,
   "metadata": {},
   "outputs": [
    {
     "name": "stdout",
     "output_type": "stream",
     "text": [
      "+-----------------+-----------------+-----------+-------------------+-------------+-------------+------------+-----------------+--------------+---------------+---------+-------------+---+-----------+----------+----------+---------+-----------+-----------+------------+------------+---------------+-----------------+-------------------+------------+------------------------+\n",
      "|airline_iata_code|airline_icao_code|airplane_id|construction_number|delivery_date|engines_count|engines_type|first_flight_date|iata_code_long|iata_code_short|iata_type|icao_code_hex| id|line_number|model_code|model_name|plane_age|plane_class|plane_owner|plane_series|plane_status|production_line|registration_date|registration_number|rollout_date|test_registration_number|\n",
      "+-----------------+-----------------+-----------+-------------------+-------------+-------------+------------+-----------------+--------------+---------------+---------+-------------+---+-----------+----------+----------+---------+-----------+-----------+------------+------------+---------------+-----------------+-------------------+------------+------------------------+\n",
      "+-----------------+-----------------+-----------+-------------------+-------------+-------------+------------+-----------------+--------------+---------------+---------+-------------+---+-----------+----------+----------+---------+-----------+-----------+------------+------------+---------------+-----------------+-------------------+------------+------------------------+\n",
      "\n"
     ]
    }
   ],
   "source": [
    "df3 = spark.sql(\n",
    "    \"\"\" \n",
    "        SELECT \n",
    "            explodedarray.*\n",
    "        FROM table   \n",
    "        WHERE \n",
    "            explodedarray.registration_number IS NULL\n",
    "    \"\"\"\n",
    ").show()"
   ]
  },
  {
   "cell_type": "code",
   "execution_count": 154,
   "metadata": {},
   "outputs": [
    {
     "name": "stdout",
     "output_type": "stream",
     "text": [
      "+-------------------+----------+-------------+--------------------+-------------------+----------------+---------+--------------------+--------------------+------------+-------------+------------+---------+------------+\n",
      "|registration_number|model_name|   model_code|         plane_owner|construction_number| production_line|iata_type|   first_flight_date|       delivery_date|plane_series|engines_count|engines_type|plane_age|plane_status|\n",
      "+-------------------+----------+-------------+--------------------+-------------------+----------------+---------+--------------------+--------------------+------------+-------------+------------+---------+------------+\n",
      "|             XA-FPP|      A300|A300B4-203(F)|Wells Fargo Bank ...|                227|Airbus A300/A310|   A300B4|1983-02-28T23:00:...|1982-12-20T23:00:...|     B4-203F|            2|         JET|       34|      active|\n",
      "|             XA-LRC|       767|B767-241(ERF)|Wells Fargo Bank ...|              23802|      Boeing 767| B767-200|1987-04-27T22:00:...|1987-07-01T22:00:...|      241ERF|            2|         JET|       30|      active|\n",
      "|             XA-LRL|      A300|A300B4-203(F)|             Unknown|                210|Airbus A300/A310|   A300B4|1982-09-09T22:00:...|1985-05-09T22:00:...|     B4-203F|            2|         JET|       35|      active|\n",
      "|             XA-MRC|      A300|A300B4-203(F)|             Unknown|                247|Airbus A300/A310|   A300B4|1983-09-08T22:00:...|1984-12-20T23:00:...|     B4-203F|            2|         JET|       34|      active|\n",
      "|             XA-TWQ|      A300|A300B4-203(F)|Lombard Aviation ...|                045|Airbus A300/A310|   A300B4|1977-02-17T23:00:...|1977-03-23T23:00:...|     B4-203F|            2|         JET|       40|      active|\n",
      "|             HL7779|       737|     B737-85F|GATX 737-800 Part...|              28824|   Boeing 737 NG| B737-800|1998-12-17T23:00:...|1999-02-01T23:00:...|         85F|            2|         JET|       18|      active|\n",
      "|             HL7780|       737|     B737-85F|Mall Partners I B.V.|              28827|   Boeing 737 NG| B737-800|2000-01-06T23:00:...|2000-01-28T23:00:...|         85F|            2|         JET|       17|      active|\n",
      "|             HL8019|       737| B737-86NWIN.|               GECAS|              32694|   Boeing 737 NG| B737-800|2006-05-25T22:00:...|2006-06-11T22:00:...|         86N|            2|         JET|       11|      active|\n",
      "|             HL8020|       737|     B737-86N|Wells Fargo Bank ...|              32683|   Boeing 737 NG| B737-800|2006-12-04T23:00:...|2006-12-17T23:00:...|         86N|            2|         JET|       10|      active|\n",
      "|             HL8031|       737| B737-8GJWIN.|Wells Fargo Bank ...|              37361|   Boeing 737 NG| B737-800|2010-12-11T23:00:...|2010-12-22T23:00:...|         8GJ|            2|         JET|        6|      active|\n",
      "|             HL8032|       737| B737-8GJWIN.|BBAM Aircraft Hol...|              36367|   Boeing 737 NG| B737-800|2010-03-09T23:00:...|2010-03-24T23:00:...|         8GJ|            2|         JET|        7|      active|\n",
      "|             HL8033|       737| B737-8ALWIN.|Singapore Aircraf...|              35071|   Boeing 737 NG| B737-800|2006-12-11T23:00:...|2006-12-20T23:00:...|         8AL|            2|         JET|       10|      active|\n",
      "|             HL8034|       737| B737-8HXWIN.|Bank of Utah Trustee|              38101|   Boeing 737 NG| B737-800|2011-09-28T22:00:...|2011-10-18T22:00:...|         8HX|            2|         JET|        6|      active|\n",
      "|             HL8206|       737| B737-86JWIN.|             Unknown|              30877|   Boeing 737 NG| B737-800|2001-02-11T23:00:...|2001-03-03T23:00:...|         86J|            2|         JET|       16|      active|\n",
      "|             HL8214|       737| B737-86NWIN.|             Unknown|              28608|   Boeing 737 NG| B737-800|1999-10-17T22:00:...|1999-11-11T23:00:...|         86N|            2|         JET|       18|      active|\n",
      "|             HL8234|       737| B737-86QWIN.|Boullion Aviation...|              30285|   Boeing 737 NG| B737-800|2002-10-22T22:00:...|2002-11-13T23:00:...|         86Q|            2|         JET|       15|      active|\n",
      "|             HL8239|       737|     B737-82R|    Pegasus Airlines|              29344|   Boeing 737 NG| B737-800|2001-05-03T22:00:...|2001-05-20T22:00:...|         82R|            2|         JET|       16|      active|\n",
      "|             HL8260|       737| B737-8BKWIN.|CIT Leasing Corpo...|              30622|   Boeing 737 NG| B737-800|2002-03-25T23:00:...|2002-04-14T22:00:...|         8BK|            2|         JET|       15|      active|\n",
      "|             HL8261|       737| B737-8BKWIN.|CIT Leasing Corpo...|              30624|   Boeing 737 NG| B737-800|2002-07-25T22:00:...|2002-08-13T22:00:...|         8BK|            2|         JET|       15|      active|\n",
      "|             HL8263|       737| B737-82RWIN.|International Lea...|              30658|   Boeing 737 NG| B737-800|2003-05-06T22:00:...|2003-05-21T22:00:...|         82R|            2|         JET|       14|      active|\n",
      "+-------------------+----------+-------------+--------------------+-------------------+----------------+---------+--------------------+--------------------+------------+-------------+------------+---------+------------+\n",
      "only showing top 20 rows\n",
      "\n"
     ]
    }
   ],
   "source": [
    "df2 = spark.sql(\n",
    "    \"\"\" \n",
    "        SELECT \n",
    "            COALESCE(explodedarray.registration_number, 'Unknown') as registration_number,\n",
    "            COALESCE(explodedarray.model_name, 'Unknown') as model_name,\n",
    "            COALESCE(explodedarray.model_code, 'Unknown') as model_code,\n",
    "            COALESCE(explodedarray.plane_owner, 'Unknown') as plane_owner,\n",
    "\n",
    "\n",
    "            COALESCE(explodedarray.construction_number, 0) as construction_number,\n",
    "            COALESCE(explodedarray.production_line, 'Unknown') as production_line,\n",
    "            COALESCE(explodedarray.iata_type, 'Unknown') as iata_type,\n",
    "\n",
    "            COALESCE(explodedarray.first_flight_date, CAST('0001-01-01T00:00:00.000Z' AS TIMESTAMP)) as first_flight_date,\n",
    "            COALESCE(explodedarray.delivery_date, CAST('0001-01-01T00:00:00.000Z' AS TIMESTAMP)) as delivery_date,\n",
    "\n",
    "            COALESCE(explodedarray.plane_series, 'Unknown') as plane_series,\n",
    "            COALESCE(explodedarray.engines_count, 0) as engines_count,\n",
    "            COALESCE(explodedarray.engines_type, 'Unknown') as engines_type,\n",
    "            COALESCE(explodedarray.plane_age, 0) as plane_age,\n",
    "            COALESCE(explodedarray.plane_status, 'Unknown') as plane_status\n",
    "\n",
    "        FROM table   \n",
    "    \"\"\"\n",
    ").show()"
   ]
  },
  {
   "cell_type": "markdown",
   "metadata": {},
   "source": [
    "# 4. Airports Table"
   ]
  },
  {
   "cell_type": "code",
   "execution_count": 202,
   "metadata": {},
   "outputs": [],
   "source": [
    "df = spark.read.json(r\"C:\\Users\\karee\\Downloads\\file_1111_20250320_121457.json\")"
   ]
  },
  {
   "cell_type": "code",
   "execution_count": 203,
   "metadata": {},
   "outputs": [
    {
     "name": "stdout",
     "output_type": "stream",
     "text": [
      "+--------------------+--------------------+\n",
      "|                data|          pagination|\n",
      "+--------------------+--------------------+\n",
      "|[{1465, Cotulla, ...|{100, 100, 1111, ...|\n",
      "+--------------------+--------------------+\n",
      "\n"
     ]
    }
   ],
   "source": [
    "df.show()"
   ]
  },
  {
   "cell_type": "code",
   "execution_count": 204,
   "metadata": {},
   "outputs": [
    {
     "name": "stdout",
     "output_type": "stream",
     "text": [
      "+--------------------+--------------------+--------------------+\n",
      "|                data|          pagination|       explodedarray|\n",
      "+--------------------+--------------------+--------------------+\n",
      "|[{1465, Cotulla, ...|{100, 100, 1111, ...|{1465, Cotulla, C...|\n",
      "|[{1465, Cotulla, ...|{100, 100, 1111, ...|{1466, Columbia R...|\n",
      "|[{1465, Cotulla, ...|{100, 100, 1111, ...|{1467, Covilha, C...|\n",
      "|[{1465, Cotulla, ...|{100, 100, 1111, ...|{1472, A. Tubman,...|\n",
      "|[{1465, Cotulla, ...|{100, 100, 1111, ...|{1473, Capurgana,...|\n",
      "|[{1465, Cotulla, ...|{100, 100, 1111, ...|{1474, Chapelco, ...|\n",
      "|[{1465, Cotulla, ...|{100, 100, 1111, ...|{1475, Coober Ped...|\n",
      "|[{1465, Cotulla, ...|{100, 100, 1111, ...|{1476, Campeche I...|\n",
      "|[{1465, Cotulla, ...|{100, 100, 1111, ...|{1477, Cepu, CPF,...|\n",
      "|[{1465, Cotulla, ...|{100, 100, 1111, ...|{1479, Kastrup, C...|\n",
      "|[{1465, Cotulla, ...|{100, 100, 1111, ...|{1481, Chaparral,...|\n",
      "|[{1465, Cotulla, ...|{100, 100, 1111, ...|{1482, Compton, C...|\n",
      "|[{1465, Cotulla, ...|{100, 100, 1111, ...|{1484, Chamonate,...|\n",
      "|[{1465, Cotulla, ...|{100, 100, 1111, ...|{1485, Campo dos ...|\n",
      "|[{1465, Cotulla, ...|{100, 100, 1111, ...|{1486, Natrona Co...|\n",
      "|[{1465, Cotulla, ...|{100, 100, 1111, ...|{1487, St. Louis ...|\n",
      "|[{1465, Cotulla, ...|{100, 100, 1111, ...|{1488, Cape Town ...|\n",
      "|[{1465, Cotulla, ...|{100, 100, 1111, ...|{1489, Cururupu, ...|\n",
      "|[{1465, Cotulla, ...|{100, 100, 1111, ...|{1490, Joao Suass...|\n",
      "|[{1465, Cotulla, ...|{100, 100, 1111, ...|{1491, Culebra, C...|\n",
      "+--------------------+--------------------+--------------------+\n",
      "only showing top 20 rows\n",
      "\n"
     ]
    }
   ],
   "source": [
    "df= df.withColumn(\"explodedarray\", explode(col('data')))\n",
    "df.show()"
   ]
  },
  {
   "cell_type": "code",
   "execution_count": 205,
   "metadata": {},
   "outputs": [],
   "source": [
    "df.createOrReplaceTempView(\"table\")"
   ]
  },
  {
   "cell_type": "code",
   "execution_count": 207,
   "metadata": {},
   "outputs": [
    {
     "name": "stdout",
     "output_type": "stream",
     "text": [
      "+----------+------------+--------------+------------+------------+----------+---+---------+---------+---+--------+---------+------------+--------+\n",
      "|airport_id|airport_name|city_iata_code|country_iso2|country_name|geoname_id|gmt|iata_code|icao_code| id|latitude|longitude|phone_number|timezone|\n",
      "+----------+------------+--------------+------------+------------+----------+---+---------+---------+---+--------+---------+------------+--------+\n",
      "+----------+------------+--------------+------------+------------+----------+---+---------+---------+---+--------+---------+------------+--------+\n",
      "\n"
     ]
    }
   ],
   "source": [
    "df3 = spark.sql(\n",
    "    \"\"\" \n",
    "    SELECT \n",
    "        explodedarray.*\n",
    "    FROM table\n",
    "    WHERE explodedarray.iata_code IS NULL   \n",
    "    \"\"\"\n",
    ").show()"
   ]
  },
  {
   "cell_type": "code",
   "execution_count": 30,
   "metadata": {},
   "outputs": [
    {
     "name": "stdout",
     "output_type": "stream",
     "text": [
      "+----------+------------+---------+---------+--------------+--------+---------+--------+------------+------------+\n",
      "|airport_id|airport_name|iata_code|icao_code|city_iata_code|latitude|longitude|timezone|country_iso2|country_name|\n",
      "+----------+------------+---------+---------+--------------+--------+---------+--------+------------+------------+\n",
      "+----------+------------+---------+---------+--------------+--------+---------+--------+------------+------------+\n",
      "\n"
     ]
    }
   ],
   "source": [
    "df2 = spark.sql(\n",
    "    \"\"\" \n",
    "    SELECT \n",
    "        COALESCE(explodedarray.airport_id, 0) as airport_id,\n",
    "        COALESCE(explodedarray.airport_name, 'Unknown') as airport_name,\n",
    "        COALESCE(explodedarray.iata_code, 'N/A') as iata_code,\n",
    "        COALESCE(explodedarray.icao_code, 'N/A') as icao_code,\n",
    "        COALESCE(explodedarray.city_iata_code, 'N/A') as city_iata_code,\n",
    "        \n",
    "        COALESCE(explodedarray.latitude, 0) as latitude,\n",
    "        COALESCE(explodedarray.longitude, 0) as longitude,\n",
    "        COALESCE(explodedarray.timezone, 'N/A') as timezone,\n",
    "\n",
    "        COALESCE(explodedarray.country_iso2, 'N/A') as country_iso2,\n",
    "        COALESCE(explodedarray.country_name, 'Unknown') as country_name\n",
    "\n",
    "    FROM table\n",
    "    WHERE explodedarray.icao_code IS NULL   \n",
    "    \"\"\"\n",
    ").show()"
   ]
  },
  {
   "cell_type": "markdown",
   "metadata": {},
   "source": [
    "# 5. Airlines Table:"
   ]
  },
  {
   "cell_type": "code",
   "execution_count": 188,
   "metadata": {},
   "outputs": [],
   "source": [
    "df = spark.read.json(r\"C:\\Users\\karee\\Downloads\\file_10504_20250320_122519.json\")"
   ]
  },
  {
   "cell_type": "code",
   "execution_count": 189,
   "metadata": {},
   "outputs": [
    {
     "name": "stdout",
     "output_type": "stream",
     "text": [
      "+--------------------+--------------------+\n",
      "|                data|          pagination|\n",
      "+--------------------+--------------------+\n",
      "|[{10506, Planemas...|{100, 100, 10504,...|\n",
      "+--------------------+--------------------+\n",
      "\n"
     ]
    }
   ],
   "source": [
    "df.show()"
   ]
  },
  {
   "cell_type": "code",
   "execution_count": 190,
   "metadata": {},
   "outputs": [
    {
     "name": "stdout",
     "output_type": "stream",
     "text": [
      "+--------------------+--------------------+--------------------+\n",
      "|                data|          pagination|       explodedarray|\n",
      "+--------------------+--------------------+--------------------+\n",
      "|[{10506, Planemas...|{100, 100, 10504,...|{10506, Planemast...|\n",
      "|[{10506, Planemas...|{100, 100, 10504,...|{10507, Perm Moto...|\n",
      "|[{10506, Planemas...|{100, 100, 10504,...|{10508, Premium A...|\n",
      "|[{10506, Planemas...|{100, 100, 10504,...|{10509, Polizeihu...|\n",
      "|[{10506, Planemas...|{100, 100, 10504,...|{10510, Petroleos...|\n",
      "|[{10506, Planemas...|{100, 100, 10504,...|{10511, Pink Avia...|\n",
      "|[{10506, Planemas...|{100, 100, 10504,...|{10512, Universal...|\n",
      "|[{10506, Planemas...|{100, 100, 10504,...|{10513, Pan-Air, ...|\n",
      "|[{10506, Planemas...|{100, 100, 10504,...|{10514, Prince Av...|\n",
      "|[{10506, Planemas...|{100, 100, 10504,...|{10515, Pond Air ...|\n",
      "|[{10506, Planemas...|{100, 100, 10504,...|{10516, Peninter ...|\n",
      "|[{10506, Planemas...|{100, 100, 10504,...|{10517, PanAfriqi...|\n",
      "|[{10506, Planemas...|{100, 100, 10504,...|{10518, Puerto Ri...|\n",
      "|[{10506, Planemas...|{100, 100, 10504,...|{10519, Panh, KUB...|\n",
      "|[{10506, Planemas...|{100, 100, 10504,...|{10520, Aerovias ...|\n",
      "|[{10506, Planemas...|{100, 100, 10504,...|{10521, Pacific N...|\n",
      "|[{10506, Planemas...|{100, 100, 10504,...|{10522, Air Pink,...|\n",
      "|[{10506, Planemas...|{100, 100, 10504,...|{10523, Aero Pers...|\n",
      "|[{10506, Planemas...|{100, 100, 10504,...|{10524, Panorama,...|\n",
      "|[{10506, Planemas...|{100, 100, 10504,...|{10525, Blocked, ...|\n",
      "+--------------------+--------------------+--------------------+\n",
      "only showing top 20 rows\n",
      "\n"
     ]
    }
   ],
   "source": [
    "df= df.withColumn(\"explodedarray\", explode(col('data')))\n",
    "df.show()"
   ]
  },
  {
   "cell_type": "code",
   "execution_count": 191,
   "metadata": {},
   "outputs": [],
   "source": [
    "df.createOrReplaceTempView(\"table\")"
   ]
  },
  {
   "cell_type": "code",
   "execution_count": 194,
   "metadata": {},
   "outputs": [
    {
     "name": "stdout",
     "output_type": "stream",
     "text": [
      "+----------+------------+--------+------------+------------+------------+-----------------+----------+--------+---------+----------------------+---------+---+------+----+\n",
      "|airline_id|airline_name|callsign|country_iso2|country_name|date_founded|fleet_average_age|fleet_size|hub_code|iata_code|iata_prefix_accounting|icao_code| id|status|type|\n",
      "+----------+------------+--------+------------+------------+------------+-----------------+----------+--------+---------+----------------------+---------+---+------+----+\n",
      "+----------+------------+--------+------------+------------+------------+-----------------+----------+--------+---------+----------------------+---------+---+------+----+\n",
      "\n"
     ]
    }
   ],
   "source": [
    "df2 = spark.sql(\n",
    "    \"\"\" \n",
    "    SELECT \n",
    "        explodedarray.*\n",
    "\n",
    "    FROM table\n",
    "    where explodedarray.icao_code is  null\n",
    "    \"\"\"\n",
    ").show()"
   ]
  },
  {
   "cell_type": "code",
   "execution_count": 23,
   "metadata": {},
   "outputs": [
    {
     "name": "stdout",
     "output_type": "stream",
     "text": [
      "+----------+------------+---------+----------------------+---------+------------+------------+--------+----------+-----------------+------------+------+----+\n",
      "|airline_id|airline_name|iata_code|iata_prefix_accounting|icao_code|country_iso2|country_name|callsign|fleet_size|fleet_average_age|date_founded|status|type|\n",
      "+----------+------------+---------+----------------------+---------+------------+------------+--------+----------+-----------------+------------+------+----+\n",
      "+----------+------------+---------+----------------------+---------+------------+------------+--------+----------+-----------------+------------+------+----+\n",
      "\n"
     ]
    }
   ],
   "source": [
    "df2 = spark.sql(\n",
    "    \"\"\" \n",
    "    SELECT \n",
    "        explodedarray.airline_id,\n",
    "        COALESCE(explodedarray.airline_name, \"Unknown\") as airline_name,\n",
    "        COALESCE(explodedarray.iata_code,\"N/A\") as iata_code,\n",
    "        COALESCE(explodedarray.iata_prefix_accounting,\"N/A\") as iata_prefix_accounting,\n",
    "        COALESCE(explodedarray.icao_code,\"N/A\") as icao_code,\n",
    "\n",
    "        COALESCE(explodedarray.country_iso2,\"N/A\") as country_iso2,\n",
    "        COALESCE(explodedarray.country_name,\"Unknown\") as country_name,\n",
    "        COALESCE(explodedarray.callsign,\"N/A\") as callsign,\n",
    "\n",
    "        COALESCE(explodedarray.fleet_size,0) as fleet_size,\n",
    "        COALESCE(explodedarray.fleet_average_age,0.0) as fleet_average_age,\n",
    "\n",
    "        COALESCE(explodedarray.date_founded,0000) as date_founded,\n",
    "\n",
    "        COALESCE(explodedarray.status,\"Unknown\") as status,\n",
    "        COALESCE(explodedarray.type,\"Unknown\") as type\n",
    "\n",
    "    FROM table\n",
    "    where explodedarray.icao_code is  null\n",
    "    \"\"\"\n",
    ").show()"
   ]
  },
  {
   "cell_type": "markdown",
   "metadata": {},
   "source": [
    "# 6. Flight Table\n"
   ]
  },
  {
   "cell_type": "code",
   "execution_count": 5,
   "metadata": {},
   "outputs": [],
   "source": [
    "df = spark.read.json(r\"C:\\Users\\karee\\Downloads\\file_2323_20250319_115001.json\")"
   ]
  },
  {
   "cell_type": "code",
   "execution_count": 6,
   "metadata": {},
   "outputs": [
    {
     "name": "stdout",
     "output_type": "stream",
     "text": [
      "+--------------------+--------------------+\n",
      "|                data|          pagination|\n",
      "+--------------------+--------------------+\n",
      "|[{{B738, B738, 4B...|{100, 100, 2323, ...|\n",
      "+--------------------+--------------------+\n",
      "\n"
     ]
    }
   ],
   "source": [
    "df.show()"
   ]
  },
  {
   "cell_type": "code",
   "execution_count": 7,
   "metadata": {},
   "outputs": [
    {
     "name": "stdout",
     "output_type": "stream",
     "text": [
      "+--------------------+--------------------+--------------------+\n",
      "|                data|          pagination|       explodedarray|\n",
      "+--------------------+--------------------+--------------------+\n",
      "|[{{B738, B738, 4B...|{100, 100, 2323, ...|{{B738, B738, 4BA...|\n",
      "|[{{B738, B738, 4B...|{100, 100, 2323, ...|{{A20N, A20N, 4BB...|\n",
      "|[{{B738, B738, 4B...|{100, 100, 2323, ...|{{A21N, A21N, 4BC...|\n",
      "|[{{B738, B738, 4B...|{100, 100, 2323, ...|{NULL, {XY, KNE, ...|\n",
      "|[{{B738, B738, 4B...|{100, 100, 2323, ...|{{A21N, A21N, 4BC...|\n",
      "|[{{B738, B738, 4B...|{100, 100, 2323, ...|{NULL, {PX, ANG, ...|\n",
      "|[{{B738, B738, 4B...|{100, 100, 2323, ...|{NULL, {CG, TOK, ...|\n",
      "|[{{B738, B738, 4B...|{100, 100, 2323, ...|{NULL, {UA, UAL, ...|\n",
      "|[{{B738, B738, 4B...|{100, 100, 2323, ...|{NULL, {NULL, NUL...|\n",
      "|[{{B738, B738, 4B...|{100, 100, 2323, ...|{NULL, {NH, ANA, ...|\n",
      "|[{{B738, B738, 4B...|{100, 100, 2323, ...|{{A21N, A21N, 781...|\n",
      "|[{{B738, B738, 4B...|{100, 100, 2323, ...|{{B738, B738, 780...|\n",
      "|[{{B738, B738, 4B...|{100, 100, 2323, ...|{{B748, B748, ABE...|\n",
      "|[{{B738, B738, 4B...|{100, 100, 2323, ...|{NULL, {HO, DKH, ...|\n",
      "|[{{B738, B738, 4B...|{100, 100, 2323, ...|{NULL, {GJ, CDC, ...|\n",
      "|[{{B738, B738, 4B...|{100, 100, 2323, ...|{NULL, {G5, HXA, ...|\n",
      "|[{{B738, B738, 4B...|{100, 100, 2323, ...|{NULL, {CZ, CSN, ...|\n",
      "|[{{B738, B738, 4B...|{100, 100, 2323, ...|{NULL, {3U, CSC, ...|\n",
      "|[{{B738, B738, 4B...|{100, 100, 2323, ...|{NULL, {NS, HBH, ...|\n",
      "|[{{B738, B738, 4B...|{100, 100, 2323, ...|{NULL, {MU, CES, ...|\n",
      "+--------------------+--------------------+--------------------+\n",
      "only showing top 20 rows\n",
      "\n"
     ]
    }
   ],
   "source": [
    "df= df.withColumn(\"explodedarray\", explode(col('data')))\n",
    "df.show()"
   ]
  },
  {
   "cell_type": "code",
   "execution_count": 8,
   "metadata": {},
   "outputs": [],
   "source": [
    "df.createOrReplaceTempView(\"table\")"
   ]
  },
  {
   "cell_type": "code",
   "execution_count": 54,
   "metadata": {},
   "outputs": [
    {
     "name": "stdout",
     "output_type": "stream",
     "text": [
      "+----+\n",
      "|icao|\n",
      "+----+\n",
      "|YRTI|\n",
      "+----+\n",
      "\n"
     ]
    }
   ],
   "source": [
    "df3= spark.sql(\n",
    "    \"\"\"\n",
    "    SELECT DISTINCT \n",
    "        explodedarray.arrival.icao\n",
    "    FROM table\n",
    "    where explodedarray.flight.iata is null\n",
    "    \"\"\").show()"
   ]
  },
  {
   "cell_type": "code",
   "execution_count": null,
   "metadata": {},
   "outputs": [
    {
     "ename": "SyntaxError",
     "evalue": "invalid syntax. Perhaps you forgot a comma? (2557941959.py, line 2)",
     "output_type": "error",
     "traceback": [
      "\u001b[1;36m  Cell \u001b[1;32mIn[42], line 2\u001b[1;36m\u001b[0m\n\u001b[1;33m    SELECT\u001b[0m\n\u001b[1;37m    ^\u001b[0m\n\u001b[1;31mSyntaxError\u001b[0m\u001b[1;31m:\u001b[0m invalid syntax. Perhaps you forgot a comma?\n"
     ]
    }
   ],
   "source": [
    "df2 = spark.sql(\n",
    "    \"\"\"\n",
    "    SELECT \n",
    "    -- Flight attributes\n",
    "    COALESCE(explodedarray.flight.iata, 'Unknown') AS flight_iata, --pk\n",
    "    COALESCE(explodedarray.flight.icao, 'Unknown') AS flight_icao,\n",
    "    COALESCE(explodedarray.flight.number, 0000) AS flight_number,\n",
    "    COALESCE(explodedarray.flight_date, '0001-01-01') AS flight_date, -- Default date\n",
    "    COALESCE(explodedarray.flight_status, 'Unknown') AS flight_status,\n",
    "\n",
    "    -- Departure attributes\n",
    "    COALESCE(explodedarray.departure.icao, 'Unknown') AS departure_icao, -- fk\n",
    "    COALESCE(explodedarray.departure.terminal, 'N/A') AS departure_terminal,\n",
    "    COALESCE(explodedarray.departure.gate, 'N/A') AS departure_gate,\n",
    "    COALESCE(explodedarray.departure.scheduled, CAST('0001-01-01T00:00:00.000Z' AS TIMESTAMP)) AS departure_scheduled,\n",
    "    COALESCE(explodedarray.departure.actual, CAST('0001-01-01T00:00:00.000Z' AS TIMESTAMP)) AS departure_actual,\n",
    "\n",
    "    -- Arrival attributes\n",
    "    COALESCE(explodedarray.arrival.icao, 'Unknown') AS arrival_icao, -- fk\n",
    "    COALESCE(explodedarray.arrival.terminal, 'N/A') AS arrival_terminal,\n",
    "    COALESCE(explodedarray.arrival.gate, 'N/A') AS arrival_gate,\n",
    "    COALESCE(explodedarray.arrival.baggage, 'N/A') AS arrival_baggage,\n",
    "    COALESCE(explodedarray.arrival.scheduled, CAST('0001-01-01T00:00:00.000Z' AS TIMESTAMP)) AS arrival_scheduled,\n",
    "    COALESCE(explodedarray.arrival.actual, CAST('0001-01-01T00:00:00.000Z' AS TIMESTAMP)) AS arrival_actual,\n",
    "\n",
    "    -- Airline attributes\n",
    "    COALESCE(explodedarray.airline.icao, 'Unknown') AS airline_icao, -- fk\n",
    "\n",
    "    -- Aircraft attributes\n",
    "    COALESCE(explodedarray.aircraft.registration, 'Unknown') AS aircraft_registration, -- fk\n",
    "    COALESCE(explodedarray.aircraft.iata, 'Unknown') AS aircraft_iata,\n",
    "\n",
    "    -- Live attributes\n",
    "    COALESCE(explodedarray.live.is_ground, False) AS live_is_ground -- Default: False\n",
    "\n",
    "FROM table\n",
    "WHERE explodedarray.flight.iata IS NOT NULL\n",
    "\"\"\"\n",
    ").show()"
   ]
  },
  {
   "cell_type": "code",
   "execution_count": null,
   "metadata": {},
   "outputs": [],
   "source": []
  }
 ],
 "metadata": {
  "kernelspec": {
   "display_name": "Python 3 (ipykernel)",
   "language": "python",
   "name": "python3"
  }
 },
 "nbformat": 4,
 "nbformat_minor": 2
}
