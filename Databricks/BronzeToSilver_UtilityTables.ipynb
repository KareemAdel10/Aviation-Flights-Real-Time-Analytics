{
 "cells": [
  {
   "cell_type": "code",
   "execution_count": 1,
   "metadata": {},
   "outputs": [],
   "source": [
    "import findspark\n",
    "findspark.init()\n",
    "from pyspark.sql import SparkSession\n",
    "spark = SparkSession.builder.getOrCreate()"
   ]
  },
  {
   "cell_type": "code",
   "execution_count": 2,
   "metadata": {},
   "outputs": [
    {
     "data": {
      "text/plain": [
       "'3.5.2'"
      ]
     },
     "execution_count": 2,
     "metadata": {},
     "output_type": "execute_result"
    }
   ],
   "source": [
    "spark.version"
   ]
  },
  {
   "cell_type": "code",
   "execution_count": 3,
   "metadata": {},
   "outputs": [],
   "source": [
    "from pyspark.sql.functions import col, explode, to_timestamp, lit, from_json\n",
    "from pyspark.sql.types import StructType, StructField, StringType, DoubleType, IntegerType, DecimalType"
   ]
  },
  {
   "cell_type": "markdown",
   "metadata": {},
   "source": [
    "# 1. Cities table"
   ]
  },
  {
   "cell_type": "code",
   "execution_count": 138,
   "metadata": {},
   "outputs": [],
   "source": [
    "bronze_cities_df = spark.read.json(r\"C:\\Users\\karee\\Downloads\\file_0_20250320_112647.json\")"
   ]
  },
  {
   "cell_type": "markdown",
   "metadata": {},
   "source": [
    "#### Step 1: Explode JSON fields to flatten nested structures\n",
    "##### Extract the \"data\" array from the JSON"
   ]
  },
  {
   "cell_type": "code",
   "execution_count": 139,
   "metadata": {},
   "outputs": [],
   "source": [
    "cities_data_df = bronze_cities_df.select(explode(col(\"data\")).alias(\"city\"))"
   ]
  },
  {
   "cell_type": "markdown",
   "metadata": {},
   "source": [
    "#### Step 2: Schema enforcement"
   ]
  },
  {
   "cell_type": "markdown",
   "metadata": {},
   "source": [
    "##### Select relevant fields and apply the schema "
   ]
  },
  {
   "cell_type": "code",
   "execution_count": 140,
   "metadata": {},
   "outputs": [],
   "source": [
    "cities_data_df_enforced = cities_data_df.select(\n",
    "    col(\"city.city_name\").cast(StringType()).alias(\"city_name\"),\n",
    "    col(\"city.iata_code\").cast(StringType()).alias(\"iata_code\"),\n",
    "    col(\"city.country_iso2\").cast(StringType()).alias(\"country_iso2\"),\n",
    "    col(\"city.latitude\").cast(DoubleType()).alias(\"latitude\"),\n",
    "    col(\"city.longitude\").cast(DoubleType()).alias(\"longitude\"),\n",
    "    col(\"city.timezone\").cast(StringType()).alias(\"timezone\"),\n",
    "    col(\"city.gmt\").cast(DecimalType(4,2)).alias(\"gmt\"),\n",
    "    col(\"city.geoname_id\").cast(IntegerType()).alias(\"geoname_id\")\n",
    ")"
   ]
  },
  {
   "cell_type": "code",
   "execution_count": 141,
   "metadata": {},
   "outputs": [
    {
     "name": "stdout",
     "output_type": "stream",
     "text": [
      "+------------+---------+------------+----------+----------+-------------------+------+----------+\n",
      "|   city_name|iata_code|country_iso2|  latitude| longitude|           timezone|   gmt|geoname_id|\n",
      "+------------+---------+------------+----------+----------+-------------------+------+----------+\n",
      "|        Anaa|      AAA|          PF|    -17.05|-145.41667|     Pacific/Tahiti|-10.00|      NULL|\n",
      "|    Arrabury|      AAB|          AU|     -26.7| 141.04167| Australia/Brisbane| 10.00|      NULL|\n",
      "|    El Arish|      AAC|          EG| 31.133333|     33.75|       Africa/Cairo|  2.00|    361546|\n",
      "|      Annaba|      AAE|          DZ| 36.821392|  7.811857|     Africa/Algiers|  1.00|   2506999|\n",
      "|Apalachicola|      AAF|          US| 29.733334| -84.98333|    America/Chicago| -6.00|   4167695|\n",
      "|     Arapoti|      AAG|          BR|-24.103611|    -49.79|  America/Sao_Paulo| -3.00|   3471795|\n",
      "|      Aachen|      AAH|          DE| 50.775438|   6.08151|      Europe/Berlin|  1.00|   3247449|\n",
      "|     Arraias|      AAI|          BR|-12.916667|-46.933334|  America/Araguaina| -3.00|      NULL|\n",
      "|    Awaradam|      AAJ|          SR|       3.9| -55.36667| America/Paramaribo| -3.00|      NULL|\n",
      "|     Aranuka|      AAK|          KI|  0.166667| 173.58333|     Pacific/Tarawa| 12.00|      NULL|\n",
      "|     Aalborg|      AAL|          DK| 57.028811|  9.917771|  Europe/Copenhagen|  1.00|   2624886|\n",
      "|   Mala Mala|      AAM|          ZA|     -24.8| 31.533333|Africa/Johannesburg|  2.00|    954955|\n",
      "|      Al Ain|      AAN|          AE|   24.2075| 55.744722|         Asia/Dubai|  4.00|    292913|\n",
      "|       Anaco|      AAO|          VE|  9.431944| -64.46389|    America/Caracas| -4.00|   3486270|\n",
      "|       Anapa|      AAQ|          RU|      44.9| 37.316666|      Europe/Moscow|  3.00|    582182|\n",
      "|      Aarhus|      AAR|          DK| 56.162939| 10.203921|  Europe/Copenhagen|  1.00|   2611664|\n",
      "|  Apalapsili|      AAS|          ID| -3.916667|    139.25|      Asia/Jayapura|  9.00|      NULL|\n",
      "|       Altay|      AAT|          CN| 47.750362|  88.08444|      Asia/Shanghai|  8.00|   1529651|\n",
      "|        Asau|      AAU|          WS|-13.458333|    -172.6|       Pacific/Apia| 13.00|   4035092|\n",
      "|    Surallah|      AAV|          PH|  6.333333| 124.76667|        Asia/Manila|  8.00|      NULL|\n",
      "+------------+---------+------------+----------+----------+-------------------+------+----------+\n",
      "only showing top 20 rows\n",
      "\n"
     ]
    }
   ],
   "source": [
    "cities_data_df_enforced.show()"
   ]
  },
  {
   "cell_type": "markdown",
   "metadata": {},
   "source": [
    "#### Step 3: Handle null values and standardize formats\n",
    "##### Replace empty strings with corresponding appropriate values and get rid of the records with a null primary key \n"
   ]
  },
  {
   "cell_type": "code",
   "execution_count": 142,
   "metadata": {},
   "outputs": [],
   "source": [
    "cities_data_df_enforced.createOrReplaceTempView(\"silver_cities\")"
   ]
  },
  {
   "cell_type": "code",
   "execution_count": 143,
   "metadata": {},
   "outputs": [],
   "source": [
    "\n",
    "silver_cities_df = spark.sql(\"\"\"\n",
    "    SELECT\n",
    "        COALESCE(city_name, 'Unkown') AS city_name,\n",
    "        COALESCE(iata_code, 'N/A') AS iata_code,\n",
    "        COALESCE(country_iso2, 'N/A') AS country_iso2,\n",
    "        COALESCE(latitude, 0.0) AS latitude,\n",
    "        COALESCE(longitude, 0.0) AS longitude,\n",
    "        COALESCE(timezone, 'Unkown') AS timezone,\n",
    "        COALESCE(gmt, 'N/A') AS gmt,\n",
    "        COALESCE(geoname_id, 0) AS geoname_id\n",
    "    FROM silver_cities\n",
    "    WHERE city_name IS NOT NULL\n",
    "\"\"\")"
   ]
  },
  {
   "cell_type": "code",
   "execution_count": 144,
   "metadata": {},
   "outputs": [
    {
     "data": {
      "text/plain": [
       "StructType([StructField('city_name', StringType(), False), StructField('iata_code', StringType(), False), StructField('country_iso2', StringType(), False), StructField('latitude', DoubleType(), False), StructField('longitude', DoubleType(), False), StructField('timezone', StringType(), False), StructField('gmt', StringType(), False), StructField('geoname_id', IntegerType(), False)])"
      ]
     },
     "execution_count": 144,
     "metadata": {},
     "output_type": "execute_result"
    }
   ],
   "source": [
    "silver_cities_df.schema"
   ]
  },
  {
   "cell_type": "markdown",
   "metadata": {},
   "source": [
    "#### Step 4: Deduplication (if needed)\n",
    "##### Drop duplicates based on unique identifiers"
   ]
  },
  {
   "cell_type": "code",
   "execution_count": 134,
   "metadata": {},
   "outputs": [],
   "source": [
    "# print(silver_cities_df.count())\n",
    "silver_cities_df = silver_cities_df.dropDuplicates([\"city_name\", \"iata_code\"])\n",
    "# print(silver_cities_df.count())\n"
   ]
  },
  {
   "cell_type": "markdown",
   "metadata": {},
   "source": [
    "#### Step5: Write into Silver layer as parquet"
   ]
  },
  {
   "cell_type": "code",
   "execution_count": null,
   "metadata": {},
   "outputs": [],
   "source": [
    "silver_cities_df.write.mode(\"overwrite\").parquet(r\"K:\\file.parquet\")\n"
   ]
  },
  {
   "cell_type": "markdown",
   "metadata": {},
   "source": [
    "# 2. Countries Table"
   ]
  },
  {
   "cell_type": "code",
   "execution_count": 4,
   "metadata": {},
   "outputs": [],
   "source": [
    "bronze_countries_df = spark.read.json(r\"K:\\New folder (2)\\*.json\")"
   ]
  },
  {
   "cell_type": "markdown",
   "metadata": {},
   "source": [
    "#### Step 1: Explode JSON fields to flatten nested structures\n",
    "##### Extract the \"data\" array from the JSON"
   ]
  },
  {
   "cell_type": "code",
   "execution_count": 5,
   "metadata": {},
   "outputs": [],
   "source": [
    "countries_data_df = bronze_countries_df.select(explode(col(\"data\")).alias(\"country\"))"
   ]
  },
  {
   "cell_type": "code",
   "execution_count": 6,
   "metadata": {},
   "outputs": [
    {
     "data": {
      "text/plain": [
       "250"
      ]
     },
     "execution_count": 6,
     "metadata": {},
     "output_type": "execute_result"
    }
   ],
   "source": [
    "countries_data_df.count()"
   ]
  },
  {
   "cell_type": "markdown",
   "metadata": {},
   "source": [
    "#### Step 2: Schema enforcement"
   ]
  },
  {
   "cell_type": "markdown",
   "metadata": {},
   "source": [
    "##### select relevant fields and apply the schema \n"
   ]
  },
  {
   "cell_type": "code",
   "execution_count": null,
   "metadata": {},
   "outputs": [],
   "source": [
    "countries_data_df_enforced = countries_data_df.select(\n",
    "    col(\"country.country_name\").cast(StringType()).alias(\"country_name\"),\n",
    "    col(\"country.country_iso2\").cast(StringType()).alias(\"country_iso2\"),\n",
    "    col(\"country.country_iso3\").cast(StringType()).alias(\"country_iso3\"),\n",
    "    col(\"country.country_iso_numeric\").cast(IntegerType()).alias(\"country_iso_numeric\"),\n",
    "    col(\"country.population\").cast(IntegerType()).alias(\"population\"),\n",
    "    col(\"country.capital\").cast(StringType()).alias(\"capital\"),\n",
    "    col(\"country.continent\").cast(StringType()).alias(\"continent\"),\n",
    "    col(\"country.currency_name\").cast(StringType()).alias(\"currency_name\"),\n",
    "    col(\"country.currency_code\").cast(StringType()).alias(\"currency_code\"),\n",
    "    col(\"country.fips_code\").cast(StringType()).alias(\"fips_code\"),\n",
    "    col(\"country.phone_prefix\").cast(StringType()).alias(\"phone_prefix\")\n",
    ")"
   ]
  },
  {
   "cell_type": "code",
   "execution_count": 156,
   "metadata": {},
   "outputs": [
    {
     "name": "stdout",
     "output_type": "stream",
     "text": [
      "+--------------------+------------+------------+-------------------+----------+--------------------+---------+-------------+-------------+---------+------------+\n",
      "|        country_name|country_iso2|country_iso3|country_iso_numeric|population|             capital|continent|currency_name|currency_code|fips_code|phone_prefix|\n",
      "+--------------------+------------+------------+-------------------+----------+--------------------+---------+-------------+-------------+---------+------------+\n",
      "|             Hungary|          HU|         HUN|                348|   9982000|            Budapest|       EU|       Forint|          HUF|       HU|          36|\n",
      "|           Indonesia|          ID|         IDN|                360| 242968342|             Jakarta|       AS|       Rupiah|          IDR|       ID|          62|\n",
      "|             Ireland|          IE|         IRL|                372|   4622917|              Dublin|       EU|         Euro|          EUR|       EI|         353|\n",
      "|              Israel|          IL|         ISR|                376|   7353985|           Jerusalem|       AS|       Shekel|          ILS|       IS|         972|\n",
      "|         Isle of Man|          IM|         IMN|                833|     75049|Douglas, Isle of Man|       EU|        Pound|          GBP|       IM|    +44-1624|\n",
      "|               India|          IN|         IND|                356|1173108018|           New Delhi|       AS|        Rupee|          INR|       IN|          91|\n",
      "|British Indian Oc...|          IO|         IOT|                 86|      4000|        Diego Garcia|       AS|       Dollar|          USD|       IO|         246|\n",
      "|                Iraq|          IQ|         IRQ|                368|  29671605|             Baghdad|       AS|        Dinar|          IQD|       IZ|         964|\n",
      "|                Iran|          IR|         IRN|                364|  76923300|              Tehran|       AS|         Rial|          IRR|       IR|          98|\n",
      "|             Iceland|          IS|         ISL|                352|    308910|           Reykjavik|       EU|        Krona|          ISK|       IC|         354|\n",
      "|               Italy|          IT|         ITA|                380|  60340328|                Rome|       EU|         Euro|          EUR|       IT|          39|\n",
      "|              Jersey|          JE|         JEY|                832|     90812|        Saint Helier|       EU|        Pound|          GBP|       JE|    +44-1534|\n",
      "|             Jamaica|          JM|         JAM|                388|   2847232|            Kingston|       NA|       Dollar|          JMD|       JM|      +1-876|\n",
      "|              Jordan|          JO|         JOR|                400|   6407085|               Amman|       AS|        Dinar|          JOD|       JO|         962|\n",
      "|               Japan|          JP|         JPN|                392| 127288000|               Tokyo|       AS|          Yen|          JPY|       JA|          81|\n",
      "|               Kenya|          KE|         KEN|                404|  40046566|             Nairobi|       AF|     Shilling|          KES|       KE|         254|\n",
      "|          Kyrgyzstan|          KG|         KGZ|                417|   5508626|             Bishkek|       AS|          Som|          KGS|       KG|         996|\n",
      "|            Cambodia|          KH|         KHM|                116|  14453680|          Phnom Penh|       AS|        Riels|          KHR|       CB|         855|\n",
      "|            Kiribati|          KI|         KIR|                296|     92533|              Tarawa|       OC|       Dollar|          AUD|       KR|         686|\n",
      "|             Comoros|          KM|         COM|                174|    773407|              Moroni|       AF|        Franc|          KMF|       CN|         269|\n",
      "+--------------------+------------+------------+-------------------+----------+--------------------+---------+-------------+-------------+---------+------------+\n",
      "only showing top 20 rows\n",
      "\n"
     ]
    }
   ],
   "source": [
    "countries_data_df_enforced.show()"
   ]
  },
  {
   "cell_type": "markdown",
   "metadata": {},
   "source": [
    "#### Step 3: Handle null values and standardize formats\n",
    "##### Replace empty strings with corresponding appropriate values and get rid of the records with a null primary key \n"
   ]
  },
  {
   "cell_type": "code",
   "execution_count": 157,
   "metadata": {},
   "outputs": [],
   "source": [
    "countries_data_df_enforced.createOrReplaceTempView(\"silver_countries\")"
   ]
  },
  {
   "cell_type": "code",
   "execution_count": 158,
   "metadata": {},
   "outputs": [],
   "source": [
    "silver_countries_df = spark.sql(\"\"\"\n",
    "    SELECT\n",
    "        COALESCE(country_name, 'Unknown') AS country_name,\n",
    "        COALESCE(country_iso2, 'N/A') AS country_iso2,\n",
    "        COALESCE(country_iso3, 'N/A') AS country_iso3,\n",
    "        COALESCE(country_iso_numeric, 0) AS country_iso_numeric,\n",
    "        COALESCE(population, 0) AS population,\n",
    "        COALESCE(capital, 'Unknown') AS capital,\n",
    "        COALESCE(continent, 'Unknown') AS continent,\n",
    "        COALESCE(currency_name, 'Unknown') AS currency_name,\n",
    "        COALESCE(currency_code, 'N/A') AS currency_code,\n",
    "        COALESCE(fips_code, 'N/A') AS fips_code,\n",
    "        COALESCE(phone_prefix, 'N/A') AS phone_prefix\n",
    "    FROM silver_countries\n",
    "    WHERE country_name IS NOT NULL\n",
    "\"\"\")"
   ]
  },
  {
   "cell_type": "code",
   "execution_count": 160,
   "metadata": {},
   "outputs": [
    {
     "data": {
      "text/plain": [
       "StructType([StructField('country_name', StringType(), False), StructField('country_iso2', StringType(), False), StructField('country_iso3', StringType(), False), StructField('country_iso_numeric', IntegerType(), False), StructField('population', IntegerType(), False), StructField('capital', StringType(), False), StructField('continent', StringType(), False), StructField('currency_name', StringType(), False), StructField('currency_code', StringType(), False), StructField('fips_code', StringType(), False), StructField('phone_prefix', StringType(), False)])"
      ]
     },
     "execution_count": 160,
     "metadata": {},
     "output_type": "execute_result"
    }
   ],
   "source": [
    "silver_countries_df.schema"
   ]
  },
  {
   "cell_type": "markdown",
   "metadata": {},
   "source": [
    "#### Step 4: Deduplication (if needed)\n",
    "##### Drop duplicates based on unique identifiers"
   ]
  },
  {
   "cell_type": "code",
   "execution_count": 161,
   "metadata": {},
   "outputs": [],
   "source": [
    "# print(silver_countries_df.count())\n",
    "silver_countries_df = silver_countries_df.dropDuplicates([\"country_name\"])\n",
    "# print(silver_countries_df.count())\n"
   ]
  },
  {
   "cell_type": "markdown",
   "metadata": {},
   "source": [
    "#### Step5: Write into Silver layer as parquet"
   ]
  },
  {
   "cell_type": "code",
   "execution_count": null,
   "metadata": {},
   "outputs": [],
   "source": [
    "silver_countries_df.write.mode(\"overwrite\").parquet(r\"K:\\file.parquet\")\n"
   ]
  },
  {
   "cell_type": "markdown",
   "metadata": {},
   "source": [
    "# 3. Airplanes Table:\n"
   ]
  },
  {
   "cell_type": "code",
   "execution_count": 162,
   "metadata": {},
   "outputs": [],
   "source": [
    "bronze_airplanes_df  = spark.read.json(r\"C:\\Users\\karee\\Downloads\\file_1010_20250320_124911.json\")"
   ]
  },
  {
   "cell_type": "markdown",
   "metadata": {},
   "source": [
    "#### Step 1: Explode JSON fields to flatten nested structures\n",
    "##### Extract the \"data\" array from the JSON"
   ]
  },
  {
   "cell_type": "code",
   "execution_count": 163,
   "metadata": {},
   "outputs": [],
   "source": [
    "airplanes_data_df = bronze_airplanes_df.select(explode(col(\"data\")).alias(\"airplane\"))\n"
   ]
  },
  {
   "cell_type": "markdown",
   "metadata": {},
   "source": [
    "#### Step 2: Schema enforcement"
   ]
  },
  {
   "cell_type": "markdown",
   "metadata": {},
   "source": [
    "##### select relevant fields and apply the schema \n"
   ]
  },
  {
   "cell_type": "code",
   "execution_count": 164,
   "metadata": {},
   "outputs": [],
   "source": [
    "airplanes_data_df_enforced = airplanes_data_df.select(\n",
    "    col(\"airplane.registration_number\").cast(StringType()).alias(\"registration_number\"),\n",
    "    col(\"airplane.production_line\").cast(StringType()).alias(\"production_line\"),\n",
    "    col(\"airplane.iata_type\").cast(StringType()).alias(\"iata_type\"),\n",
    "    col(\"airplane.model_name\").cast(StringType()).alias(\"model_name\"),\n",
    "    col(\"airplane.model_code\").cast(StringType()).alias(\"model_code\"),\n",
    "    col(\"airplane.icao_code_hex\").cast(StringType()).alias(\"icao_code_hex\"),\n",
    "    col(\"airplane.iata_code_short\").cast(StringType()).alias(\"iata_code_short\"),\n",
    "    col(\"airplane.construction_number\").cast(StringType()).alias(\"construction_number\"),\n",
    "    col(\"airplane.test_registration_number\").cast(StringType()).alias(\"test_registration_number\"),\n",
    "    col(\"airplane.rollout_date\").cast(StringType()).alias(\"rollout_date\"),\n",
    "    col(\"airplane.first_flight_date\").cast(StringType()).alias(\"first_flight_date\"),\n",
    "    col(\"airplane.delivery_date\").cast(StringType()).alias(\"delivery_date\"),\n",
    "    col(\"airplane.registration_date\").cast(StringType()).alias(\"registration_date\"),\n",
    "    col(\"airplane.line_number\").cast(StringType()).alias(\"line_number\"),\n",
    "    col(\"airplane.plane_series\").cast(StringType()).alias(\"plane_series\"),\n",
    "    col(\"airplane.airline_iata_code\").cast(StringType()).alias(\"airline_iata_code\"),\n",
    "    col(\"airplane.airline_icao_code\").cast(StringType()).alias(\"airline_icao_code\"),\n",
    "    col(\"airplane.plane_owner\").cast(StringType()).alias(\"plane_owner\"),\n",
    "    col(\"airplane.engines_count\").cast(IntegerType()).alias(\"engines_count\"),\n",
    "    col(\"airplane.engines_type\").cast(StringType()).alias(\"engines_type\"),\n",
    "    col(\"airplane.plane_age\").cast(IntegerType()).alias(\"plane_age\"),\n",
    "    col(\"airplane.plane_status\").cast(StringType()).alias(\"plane_status\"),\n",
    "    col(\"airplane.plane_class\").cast(StringType()).alias(\"plane_class\")\n",
    ")"
   ]
  },
  {
   "cell_type": "code",
   "execution_count": 166,
   "metadata": {},
   "outputs": [
    {
     "name": "stdout",
     "output_type": "stream",
     "text": [
      "+-------------------+----------------+---------+----------+-------------+-------------+---------------+-------------------+------------------------+--------------------+--------------------+--------------------+--------------------+-----------+------------+-----------------+-----------------+--------------------+-------------+------------+---------+------------+-----------+\n",
      "|registration_number| production_line|iata_type|model_name|   model_code|icao_code_hex|iata_code_short|construction_number|test_registration_number|        rollout_date|   first_flight_date|       delivery_date|   registration_date|line_number|plane_series|airline_iata_code|airline_icao_code|         plane_owner|engines_count|engines_type|plane_age|plane_status|plane_class|\n",
      "+-------------------+----------------+---------+----------+-------------+-------------+---------------+-------------------+------------------------+--------------------+--------------------+--------------------+--------------------+-----------+------------+-----------------+-----------------+--------------------+-------------+------------+---------+------------+-----------+\n",
      "|             XA-FPP|Airbus A300/A310|   A300B4|      A300|A300B4-203(F)|       0D05CA|            ABX|                227|                    NULL|          0000-00-00|1983-02-28T23:00:...|1982-12-20T23:00:...|2010-08-20T22:00:...|       NULL|     B4-203F|               6R|             NULL|Wells Fargo Bank ...|            2|         JET|       34|      active|       NULL|\n",
      "|             XA-LRC|      Boeing 767| B767-200|       767|B767-241(ERF)|       0D0821|            76X|              23802|                    NULL|                NULL|1987-04-27T22:00:...|1987-07-01T22:00:...|          0000-00-00|       0172|      241ERF|               6R|             NULL|Wells Fargo Bank ...|            2|         JET|       30|      active|       NULL|\n",
      "|             XA-LRL|Airbus A300/A310|   A300B4|      A300|A300B4-203(F)|       0D05CC|            ABX|                210|                    NULL|          0000-00-00|1982-09-09T22:00:...|1985-05-09T22:00:...|2010-08-20T22:00:...|       NULL|     B4-203F|               6R|             NULL|                NULL|            2|         JET|       35|      active|       NULL|\n",
      "|             XA-MRC|Airbus A300/A310|   A300B4|      A300|A300B4-203(F)|       0D05CB|            ABX|                247|                    NULL|          0000-00-00|1983-09-08T22:00:...|1984-12-20T23:00:...|2010-08-20T22:00:...|       NULL|     B4-203F|               6R|             NULL|                NULL|            2|         JET|       34|      active|       NULL|\n",
      "|             XA-TWQ|Airbus A300/A310|   A300B4|      A300|A300B4-203(F)|       0D0236|            ABX|                045|                    NULL|          0000-00-00|1977-02-17T23:00:...|1977-03-23T23:00:...|2003-03-07T23:00:...|       NULL|     B4-203F|               6R|             NULL|Lombard Aviation ...|            2|         JET|       40|      active|       NULL|\n",
      "|             HL7779|   Boeing 737 NG| B737-800|       737|     B737-85F|       71BF79|            738|              28824|                    NULL|                NULL|1998-12-17T23:00:...|1999-02-01T23:00:...|2000-08-04T22:00:...|       0180|         85F|               7C|             NULL|GATX 737-800 Part...|            2|         JET|       18|      active|       NULL|\n",
      "|             HL7780|   Boeing 737 NG| B737-800|       737|     B737-85F|       71BF80|            738|              28827|                    NULL|                NULL|2000-01-06T23:00:...|2000-01-28T23:00:...|2000-08-06T22:00:...|       0467|         85F|               7C|             NULL|Mall Partners I B.V.|            2|         JET|       17|      active|          1|\n",
      "|             HL8019|   Boeing 737 NG| B737-800|       737| B737-86NWIN.|       71C019|            73H|              32694|                    NULL|2006-05-11T22:00:...|2006-05-25T22:00:...|2006-06-11T22:00:...|2014-06-26T22:00:...|       1960|         86N|               7C|             NULL|               GECAS|            2|         JET|       11|      active|       NULL|\n",
      "|             HL8020|   Boeing 737 NG| B737-800|       737|     B737-86N|       71C020|            738|              32683|                    NULL|2006-11-28T23:00:...|2006-12-04T23:00:...|2006-12-17T23:00:...|2014-11-30T23:00:...|       2136|         86N|               7C|             NULL|Wells Fargo Bank ...|            2|         JET|       10|      active|       NULL|\n",
      "|             HL8031|   Boeing 737 NG| B737-800|       737| B737-8GJWIN.|       A442F5|            73H|              37361|                    NULL|2010-12-06T23:00:...|2010-12-11T23:00:...|2010-12-22T23:00:...|2015-02-13T23:00:...|       3506|         8GJ|               7C|             NULL|Wells Fargo Bank ...|            2|         JET|        6|      active|       NULL|\n",
      "|             HL8032|   Boeing 737 NG| B737-800|       737| B737-8GJWIN.|       71C032|            73H|              36367|                    NULL|2010-03-02T23:00:...|2010-03-09T23:00:...|2010-03-24T23:00:...|2015-03-30T22:00:...|       3218|         8GJ|               7C|             NULL|BBAM Aircraft Hol...|            2|         JET|        7|      active|       NULL|\n",
      "|             HL8033|   Boeing 737 NG| B737-800|       737| B737-8ALWIN.|       71C033|            73H|              35071|                    NULL|2006-11-29T23:00:...|2006-12-11T23:00:...|2006-12-20T23:00:...|2015-05-18T22:00:...|       2138|         8AL|               7C|             NULL|Singapore Aircraf...|            2|         JET|       10|      active|       NULL|\n",
      "|             HL8034|   Boeing 737 NG| B737-800|       737| B737-8HXWIN.|       71C034|            73H|              38101|                    NULL|2011-09-20T22:00:...|2011-09-28T22:00:...|2011-10-18T22:00:...|2015-04-09T22:00:...|       3803|         8HX|               7C|             NULL|Bank of Utah Trustee|            2|         JET|        6|      active|       NULL|\n",
      "|             HL8206|   Boeing 737 NG| B737-800|       737| B737-86JWIN.|       4BCCE9|            73H|              30877|                    NULL|2001-02-03T23:00:...|2001-02-11T23:00:...|2001-03-03T23:00:...|2000-09-08T22:00:...|       0782|         86J|               7C|             NULL|                NULL|            2|         JET|       16|      active|       NULL|\n",
      "|             HL8214|   Boeing 737 NG| B737-800|       737| B737-86NWIN.|       71C214|            73H|              28608|                    NULL|                NULL|1999-10-17T22:00:...|1999-11-11T23:00:...|2010-02-08T23:00:...|       0410|         86N|               7C|             NULL|                NULL|            2|         JET|       18|      active|       NULL|\n",
      "|             HL8234|   Boeing 737 NG| B737-800|       737| B737-86QWIN.|       71C234|            73H|              30285|                    NULL|2002-10-10T22:00:...|2002-10-22T22:00:...|2002-11-13T23:00:...|2010-11-18T23:00:...|       1237|         86Q|               7C|             NULL|Boullion Aviation...|            2|         JET|       15|      active|       NULL|\n",
      "|             HL8239|   Boeing 737 NG| B737-800|       737|     B737-82R|       71C239|            738|              29344|                    NULL|2001-04-24T22:00:...|2001-05-03T22:00:...|2001-05-20T22:00:...|2011-06-02T22:00:...|       0849|         82R|               7C|             NULL|    Pegasus Airlines|            2|         JET|       16|      active|       NULL|\n",
      "|             HL8260|   Boeing 737 NG| B737-800|       737| B737-8BKWIN.|       71C260|            73H|              30622|                    NULL|2002-03-16T23:00:...|2002-03-25T23:00:...|2002-04-14T22:00:...|2012-03-14T23:00:...|       1108|         8BK|               7C|             NULL|CIT Leasing Corpo...|            2|         JET|       15|      active|       NULL|\n",
      "|             HL8261|   Boeing 737 NG| B737-800|       737| B737-8BKWIN.|       71C261|            73H|              30624|                    NULL|2002-07-16T22:00:...|2002-07-25T22:00:...|2002-08-13T22:00:...|2012-09-16T22:00:...|       1193|         8BK|               7C|             NULL|CIT Leasing Corpo...|            2|         JET|       15|      active|       NULL|\n",
      "|             HL8263|   Boeing 737 NG| B737-800|       737| B737-82RWIN.|       71C263|            73H|              30658|                    NULL|2003-04-28T22:00:...|2003-05-06T22:00:...|2003-05-21T22:00:...|2012-11-22T23:00:...|       1325|         82R|               7C|             NULL|International Lea...|            2|         JET|       14|      active|       NULL|\n",
      "+-------------------+----------------+---------+----------+-------------+-------------+---------------+-------------------+------------------------+--------------------+--------------------+--------------------+--------------------+-----------+------------+-----------------+-----------------+--------------------+-------------+------------+---------+------------+-----------+\n",
      "only showing top 20 rows\n",
      "\n"
     ]
    }
   ],
   "source": [
    "airplanes_data_df_enforced.show()"
   ]
  },
  {
   "cell_type": "markdown",
   "metadata": {},
   "source": [
    "#### Step 3: Handle null values and standardize formats\n",
    "##### Replace empty strings with corresponding appropriate values and get rid of the records with a null primary key \n"
   ]
  },
  {
   "cell_type": "code",
   "execution_count": 167,
   "metadata": {},
   "outputs": [],
   "source": [
    "airplanes_data_df_enforced.createOrReplaceTempView(\"silver_airplanes\")\n"
   ]
  },
  {
   "cell_type": "code",
   "execution_count": 168,
   "metadata": {},
   "outputs": [],
   "source": [
    "silver_airplanes_df = spark.sql(\"\"\"\n",
    "    SELECT\n",
    "        COALESCE(registration_number, 'N/A') AS registration_number,\n",
    "        COALESCE(production_line, 'Unknown') AS production_line,\n",
    "        COALESCE(iata_type, 'Unknown') AS iata_type,\n",
    "        COALESCE(model_name, 'Unknown') AS model_name,\n",
    "        COALESCE(model_code, 'Unknown') AS model_code,\n",
    "        COALESCE(icao_code_hex, 'N/A') AS icao_code_hex,\n",
    "        COALESCE(iata_code_short, 'N/A') AS iata_code_short,\n",
    "        COALESCE(construction_number, 'N/A') AS construction_number,\n",
    "        COALESCE(test_registration_number, 'N/A') AS test_registration_number,\n",
    "        COALESCE(rollout_date, 'N/A') AS rollout_date,\n",
    "        COALESCE(first_flight_date, 'N/A') AS first_flight_date,\n",
    "        COALESCE(delivery_date, 'N/A') AS delivery_date,\n",
    "        COALESCE(registration_date, 'N/A') AS registration_date,\n",
    "        COALESCE(line_number, 'N/A') AS line_number,\n",
    "        COALESCE(plane_series, 'N/A') AS plane_series,\n",
    "        COALESCE(airline_iata_code, 'N/A') AS airline_iata_code,\n",
    "        COALESCE(airline_icao_code, 'N/A') AS airline_icao_code,\n",
    "        COALESCE(plane_owner, 'Unknown') AS plane_owner,\n",
    "        COALESCE(engines_count, 0) AS engines_count,\n",
    "        COALESCE(engines_type, 'Unknown') AS engines_type,\n",
    "        COALESCE(plane_age, 0) AS plane_age,\n",
    "        COALESCE(plane_status, 'Unknown') AS plane_status,\n",
    "        COALESCE(plane_class, 'Unknown') AS plane_class\n",
    "    FROM silver_airplanes\n",
    "    WHERE registration_number IS NOT NULL\n",
    "\"\"\")"
   ]
  },
  {
   "cell_type": "code",
   "execution_count": 169,
   "metadata": {},
   "outputs": [
    {
     "data": {
      "text/plain": [
       "StructType([StructField('registration_number', StringType(), False), StructField('production_line', StringType(), False), StructField('iata_type', StringType(), False), StructField('model_name', StringType(), False), StructField('model_code', StringType(), False), StructField('icao_code_hex', StringType(), False), StructField('iata_code_short', StringType(), False), StructField('construction_number', StringType(), False), StructField('test_registration_number', StringType(), False), StructField('rollout_date', StringType(), False), StructField('first_flight_date', StringType(), False), StructField('delivery_date', StringType(), False), StructField('registration_date', StringType(), False), StructField('line_number', StringType(), False), StructField('plane_series', StringType(), False), StructField('airline_iata_code', StringType(), False), StructField('airline_icao_code', StringType(), False), StructField('plane_owner', StringType(), False), StructField('engines_count', IntegerType(), False), StructField('engines_type', StringType(), False), StructField('plane_age', IntegerType(), False), StructField('plane_status', StringType(), False), StructField('plane_class', StringType(), False)])"
      ]
     },
     "execution_count": 169,
     "metadata": {},
     "output_type": "execute_result"
    }
   ],
   "source": [
    "silver_airplanes_df.schema"
   ]
  },
  {
   "cell_type": "markdown",
   "metadata": {},
   "source": [
    "#### Step 4: Deduplication (if needed)\n",
    "##### Drop duplicates based on unique identifiers"
   ]
  },
  {
   "cell_type": "code",
   "execution_count": 171,
   "metadata": {},
   "outputs": [],
   "source": [
    "# print(silver_airplanes_df.count())\n",
    "silver_airplanes_df = silver_airplanes_df.dropDuplicates([\"registration_number\"])\n",
    "# print(silver_airplanes_df.count())\n"
   ]
  },
  {
   "cell_type": "markdown",
   "metadata": {},
   "source": [
    "#### Step5: Write into Silver layer as parquet"
   ]
  },
  {
   "cell_type": "code",
   "execution_count": 172,
   "metadata": {},
   "outputs": [],
   "source": [
    "silver_airplanes_df.write.mode(\"overwrite\").parquet(r\"K:\\file.parquet\")\n"
   ]
  },
  {
   "cell_type": "markdown",
   "metadata": {},
   "source": [
    "# 4. Airports Table"
   ]
  },
  {
   "cell_type": "code",
   "execution_count": 173,
   "metadata": {},
   "outputs": [],
   "source": [
    "bronze_airports_df  = spark.read.json(r\"C:\\Users\\karee\\Downloads\\file_1111_20250320_121457.json\")"
   ]
  },
  {
   "cell_type": "markdown",
   "metadata": {},
   "source": [
    "#### Step 1: Explode JSON fields to flatten nested structures\n",
    "##### Extract the \"data\" array from the JSON"
   ]
  },
  {
   "cell_type": "code",
   "execution_count": 176,
   "metadata": {},
   "outputs": [],
   "source": [
    "airports_data_df = bronze_airports_df.select(explode(col(\"data\")).alias(\"airport\"))\n"
   ]
  },
  {
   "cell_type": "markdown",
   "metadata": {},
   "source": [
    "#### Step 2: Schema enforcement"
   ]
  },
  {
   "cell_type": "markdown",
   "metadata": {},
   "source": [
    "##### select relevant fields and apply the schema \n"
   ]
  },
  {
   "cell_type": "code",
   "execution_count": 177,
   "metadata": {},
   "outputs": [],
   "source": [
    "airports_data_df_enforced = airports_data_df.select(\n",
    "    col(\"airport.airport_name\").cast(StringType()).alias(\"airport_name\"),\n",
    "    col(\"airport.iata_code\").cast(StringType()).alias(\"iata_code\"),\n",
    "    col(\"airport.icao_code\").cast(StringType()).alias(\"icao_code\"),\n",
    "    col(\"airport.latitude\").cast(DoubleType()).alias(\"latitude\"),\n",
    "    col(\"airport.longitude\").cast(DoubleType()).alias(\"longitude\"),\n",
    "    col(\"airport.geoname_id\").cast(IntegerType()).alias(\"geoname_id\"),\n",
    "    col(\"airport.timezone\").cast(StringType()).alias(\"timezone\"),\n",
    "    col(\"airport.gmt\").cast(StringType()).alias(\"gmt\"),\n",
    "    col(\"airport.phone_number\").cast(StringType()).alias(\"phone_number\"),\n",
    "    col(\"airport.country_name\").cast(StringType()).alias(\"country_name\"),\n",
    "    col(\"airport.country_iso2\").cast(StringType()).alias(\"country_iso2\"),\n",
    "    col(\"airport.city_iata_code\").cast(StringType()).alias(\"city_iata_code\")\n",
    ")\n"
   ]
  },
  {
   "cell_type": "markdown",
   "metadata": {},
   "source": [
    "#### Step 3: Handle null values and standardize formats\n",
    "##### Replace empty strings with corresponding appropriate values and get rid of the records with a null primary key \n"
   ]
  },
  {
   "cell_type": "code",
   "execution_count": 178,
   "metadata": {},
   "outputs": [],
   "source": [
    "airports_data_df_enforced.createOrReplaceTempView(\"silver_airports\")\n"
   ]
  },
  {
   "cell_type": "code",
   "execution_count": 179,
   "metadata": {},
   "outputs": [],
   "source": [
    "silver_airports_df = spark.sql(\"\"\"\n",
    "    SELECT\n",
    "        COALESCE(airport_name, 'Unknown') AS airport_name,\n",
    "        COALESCE(iata_code, 'N/A') AS iata_code,\n",
    "        COALESCE(icao_code, 'N/A') AS icao_code,\n",
    "        COALESCE(latitude, 0.0) AS latitude,\n",
    "        COALESCE(longitude, 0.0) AS longitude,\n",
    "        COALESCE(geoname_id, 0) AS geoname_id,\n",
    "        COALESCE(timezone, 'Unknown') AS timezone,\n",
    "        COALESCE(gmt, 'N/A') AS gmt,\n",
    "        COALESCE(phone_number, 'N/A') AS phone_number,\n",
    "        COALESCE(country_name, 'Unknown') AS country_name,\n",
    "        COALESCE(country_iso2, 'N/A') AS country_iso2,\n",
    "        COALESCE(city_iata_code, 'N/A') AS city_iata_code\n",
    "    FROM silver_airports\n",
    "    WHERE airport_name IS NOT NULL\n",
    "\"\"\")"
   ]
  },
  {
   "cell_type": "markdown",
   "metadata": {},
   "source": [
    "#### Step 4: Deduplication (if needed)\n",
    "##### Drop duplicates based on unique identifiers"
   ]
  },
  {
   "cell_type": "code",
   "execution_count": null,
   "metadata": {},
   "outputs": [
    {
     "name": "stdout",
     "output_type": "stream",
     "text": [
      "100\n",
      "100\n"
     ]
    }
   ],
   "source": [
    "# print(silver_airplanes_df.count())\n",
    "silver_airports_df = silver_airports_df.dropDuplicates([\"iata_code\"])\n",
    "# print(silver_airplanes_df.count())\n"
   ]
  },
  {
   "cell_type": "markdown",
   "metadata": {},
   "source": [
    "#### Step5: Write into Silver layer as parquet"
   ]
  },
  {
   "cell_type": "code",
   "execution_count": null,
   "metadata": {},
   "outputs": [],
   "source": [
    "silver_airports_df.write.mode(\"overwrite\").parquet(r\"K:\\file.parquet\")\n"
   ]
  },
  {
   "cell_type": "markdown",
   "metadata": {},
   "source": [
    "# 5. Airlines Table"
   ]
  },
  {
   "cell_type": "code",
   "execution_count": 182,
   "metadata": {},
   "outputs": [],
   "source": [
    "bronze_airlines_df  = spark.read.json(r\"C:\\Users\\karee\\Downloads\\file_10504_20250320_122519.json\")"
   ]
  },
  {
   "cell_type": "markdown",
   "metadata": {},
   "source": [
    "#### Step 1: Explode JSON fields to flatten nested structures\n",
    "##### Extract the \"data\" array from the JSON"
   ]
  },
  {
   "cell_type": "code",
   "execution_count": 183,
   "metadata": {},
   "outputs": [],
   "source": [
    "airlines_data_df = bronze_airlines_df.select(explode(col(\"data\")).alias(\"airline\"))\n"
   ]
  },
  {
   "cell_type": "markdown",
   "metadata": {},
   "source": [
    "#### Step 2: Schema enforcement"
   ]
  },
  {
   "cell_type": "markdown",
   "metadata": {},
   "source": [
    "##### select relevant fields and apply the schema \n"
   ]
  },
  {
   "cell_type": "code",
   "execution_count": null,
   "metadata": {},
   "outputs": [],
   "source": [
    "airlines_data_df_enforced = airlines_data_df.select(\n",
    "    col(\"airline.airline_name\").cast(StringType()).alias(\"airline_name\"),\n",
    "    col(\"airline.iata_code\").cast(StringType()).alias(\"iata_code\"),\n",
    "    col(\"airline.iata_prefix_accounting\").cast(StringType()).alias(\"iata_prefix_accounting\"),\n",
    "    col(\"airline.icao_code\").cast(StringType()).alias(\"icao_code\"),\n",
    "    col(\"airline.callsign\").cast(StringType()).alias(\"callsign\"),\n",
    "    col(\"airline.type\").cast(StringType()).alias(\"type\"),\n",
    "    col(\"airline.status\").cast(StringType()).alias(\"status\"),\n",
    "    col(\"airline.fleet_size\").cast(IntegerType()).alias(\"fleet_size\"),\n",
    "    col(\"airline.fleet_average_age\").cast(DoubleType()).alias(\"fleet_average_age\"),\n",
    "    col(\"airline.date_founded\").cast(IntegerType()).alias(\"date_founded\"),\n",
    "    col(\"airline.hub_code\").cast(StringType()).alias(\"hub_code\"),\n",
    "    col(\"airline.country_name\").cast(StringType()).alias(\"country_name\"),\n",
    "    col(\"airline.country_iso2\").cast(StringType()).alias(\"country_iso2\")\n",
    ")"
   ]
  },
  {
   "cell_type": "markdown",
   "metadata": {},
   "source": [
    "#### Step 3: Handle null values and standardize formats\n",
    "##### Replace empty strings with corresponding appropriate values and get rid of the records with a null primary key \n"
   ]
  },
  {
   "cell_type": "code",
   "execution_count": 185,
   "metadata": {},
   "outputs": [],
   "source": [
    "airlines_data_df_enforced.createOrReplaceTempView(\"silver_airlines\")\n"
   ]
  },
  {
   "cell_type": "code",
   "execution_count": null,
   "metadata": {},
   "outputs": [],
   "source": [
    "silver_airlines_df = spark.sql(\"\"\"\n",
    "    SELECT\n",
    "        COALESCE(airline_name, 'Unknown') AS airline_name,\n",
    "        COALESCE(icao_code, 'N/A') AS icao_code,\n",
    "        COALESCE(iata_code, 'N/A') AS iata_code, --there are nulls here\n",
    "        COALESCE(iata_prefix_accounting, 'N/A') AS iata_prefix_accounting,\n",
    "        COALESCE(callsign, 'N/A') AS callsign,\n",
    "        COALESCE(type, 'Unknown') AS type,\n",
    "        COALESCE(status, 'Unknown') AS status,\n",
    "        COALESCE(fleet_size, 0) AS fleet_size,\n",
    "        COALESCE(fleet_average_age, 0.0) AS fleet_average_age,\n",
    "        COALESCE(date_founded, 0) AS date_founded,\n",
    "        COALESCE(hub_code, 'N/A') AS hub_code,\n",
    "        COALESCE(country_name, 'Unknown') AS country_name,\n",
    "        COALESCE(country_iso2, 'N/A') AS country_iso2\n",
    "    FROM silver_airlines\n",
    "    WHERE airline_name IS NOT NULL\n",
    "\"\"\")"
   ]
  },
  {
   "cell_type": "markdown",
   "metadata": {},
   "source": [
    "#### Step 4: Deduplication (if needed)\n",
    "##### Drop duplicates based on unique identifiers"
   ]
  },
  {
   "cell_type": "code",
   "execution_count": 195,
   "metadata": {},
   "outputs": [],
   "source": [
    "# print(silver_airplanes_df.count())\n",
    "silver_airlines_df = silver_airlines_df.dropDuplicates([\"icao_code\"])\n",
    "# print(silver_airplanes_df.count())\n"
   ]
  },
  {
   "cell_type": "markdown",
   "metadata": {},
   "source": [
    "#### Step5: Write into Silver layer as parquet"
   ]
  },
  {
   "cell_type": "code",
   "execution_count": null,
   "metadata": {},
   "outputs": [],
   "source": [
    "silver_airlines_df.write.mode(\"overwrite\").parquet(r\"K:\\file.parquet\")\n"
   ]
  }
 ],
 "metadata": {
  "kernelspec": {
   "display_name": "Python 3 (ipykernel)",
   "language": "python",
   "name": "python3"
  }
 },
 "nbformat": 4,
 "nbformat_minor": 2
}
